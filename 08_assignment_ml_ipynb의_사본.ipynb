{
  "nbformat": 4,
  "nbformat_minor": 0,
  "metadata": {
    "colab": {
      "name": "08_assignment-ml.ipynb의 사본",
      "provenance": [],
      "collapsed_sections": [],
      "include_colab_link": true
    },
    "kernelspec": {
      "name": "python3",
      "display_name": "Python 3"
    }
  },
  "cells": [
    {
      "cell_type": "markdown",
      "metadata": {
        "id": "view-in-github",
        "colab_type": "text"
      },
      "source": [
        "<a href=\"https://colab.research.google.com/github/Chung-god/machinelearning/blob/master/08_assignment_ml_ipynb%EC%9D%98_%EC%82%AC%EB%B3%B8.ipynb\" target=\"_parent\"><img src=\"https://colab.research.google.com/assets/colab-badge.svg\" alt=\"Open In Colab\"/></a>"
      ]
    },
    {
      "cell_type": "markdown",
      "metadata": {
        "id": "E8jeO3EFcqin"
      },
      "source": [
        "# Spotify Popularity Prediction-ML Practice"
      ]
    },
    {
      "cell_type": "code",
      "metadata": {
        "id": "JcdZ1nEec2aC"
      },
      "source": [
        "# 기본적으로 사용할 파이썬 패키지\r\n",
        "import numpy as np\r\n",
        "import pandas as pd\r\n",
        "import matplotlib.pyplot as plt"
      ],
      "execution_count": 4,
      "outputs": []
    },
    {
      "cell_type": "markdown",
      "metadata": {
        "id": "2eLBkekEcuDP"
      },
      "source": [
        "# 1. 프로젝트 목표 및 목적\r\n",
        "\r\n",
        "* 노래의 인기를 예측해보자!"
      ]
    },
    {
      "cell_type": "markdown",
      "metadata": {
        "id": "On3LzKgicwQA"
      },
      "source": [
        "# 2. 관련 데이터 수집"
      ]
    },
    {
      "cell_type": "code",
      "metadata": {
        "colab": {
          "base_uri": "https://localhost:8080/"
        },
        "id": "q4_OCsqEcrls",
        "outputId": "992613a6-387a-4f60-fdd7-14c8239fc120"
      },
      "source": [
        "# 데이터 다운로드(song_data.csv / song_info.csv)\r\n",
        "!gdown --id \"1tFSeDdJYrOcVzQnxHQdJmV2Bp60rJ9O-\"\r\n",
        "!gdown --id \"1NMpQ2nanbUUGOUo1PLBWgbxy59O69SZs\""
      ],
      "execution_count": 5,
      "outputs": [
        {
          "output_type": "stream",
          "text": [
            "Downloading...\n",
            "From: https://drive.google.com/uc?id=1tFSeDdJYrOcVzQnxHQdJmV2Bp60rJ9O-\n",
            "To: /content/song_data.csv\n",
            "2.22MB [00:00, 70.1MB/s]\n",
            "Downloading...\n",
            "From: https://drive.google.com/uc?id=1NMpQ2nanbUUGOUo1PLBWgbxy59O69SZs\n",
            "To: /content/song_info.csv\n",
            "100% 1.24M/1.24M [00:00<00:00, 82.1MB/s]\n"
          ],
          "name": "stdout"
        }
      ]
    },
    {
      "cell_type": "code",
      "metadata": {
        "id": "s6PcqM57cySO"
      },
      "source": [
        "# Pandas를 사용해서 CSV 파일 불러오기\r\n",
        "# CSV 파일을 업로드 하세요\r\n",
        "spotify_song_data= pd.read_csv(\"song_data.csv\")\r\n",
        "spotify_song_info= pd.read_csv(\"song_info.csv\") \r\n",
        "song_info=spotify_song_info.copy()\r\n",
        "song_data=spotify_song_data.copy()"
      ],
      "execution_count": 6,
      "outputs": []
    },
    {
      "cell_type": "code",
      "metadata": {
        "id": "QIC8LBdvFg0_"
      },
      "source": [
        ""
      ],
      "execution_count": null,
      "outputs": []
    },
    {
      "cell_type": "code",
      "metadata": {
        "colab": {
          "base_uri": "https://localhost:8080/",
          "height": 198
        },
        "id": "_WJylELAc5C3",
        "outputId": "84a6b576-fa2d-4100-a362-1ec3ababb3d6"
      },
      "source": [
        "song_info.head()"
      ],
      "execution_count": 7,
      "outputs": [
        {
          "output_type": "execute_result",
          "data": {
            "text/html": [
              "<div>\n",
              "<style scoped>\n",
              "    .dataframe tbody tr th:only-of-type {\n",
              "        vertical-align: middle;\n",
              "    }\n",
              "\n",
              "    .dataframe tbody tr th {\n",
              "        vertical-align: top;\n",
              "    }\n",
              "\n",
              "    .dataframe thead th {\n",
              "        text-align: right;\n",
              "    }\n",
              "</style>\n",
              "<table border=\"1\" class=\"dataframe\">\n",
              "  <thead>\n",
              "    <tr style=\"text-align: right;\">\n",
              "      <th></th>\n",
              "      <th>song_name</th>\n",
              "      <th>artist_name</th>\n",
              "      <th>album_names</th>\n",
              "      <th>playlist</th>\n",
              "    </tr>\n",
              "  </thead>\n",
              "  <tbody>\n",
              "    <tr>\n",
              "      <th>0</th>\n",
              "      <td>Boulevard of Broken Dreams</td>\n",
              "      <td>Green Day</td>\n",
              "      <td>Greatest Hits: God's Favorite Band</td>\n",
              "      <td>00s Rock Anthems</td>\n",
              "    </tr>\n",
              "    <tr>\n",
              "      <th>1</th>\n",
              "      <td>In The End</td>\n",
              "      <td>Linkin Park</td>\n",
              "      <td>Hybrid Theory</td>\n",
              "      <td>00s Rock Anthems</td>\n",
              "    </tr>\n",
              "    <tr>\n",
              "      <th>2</th>\n",
              "      <td>Seven Nation Army</td>\n",
              "      <td>The White Stripes</td>\n",
              "      <td>Elephant</td>\n",
              "      <td>00s Rock Anthems</td>\n",
              "    </tr>\n",
              "    <tr>\n",
              "      <th>3</th>\n",
              "      <td>By The Way</td>\n",
              "      <td>Red Hot Chili Peppers</td>\n",
              "      <td>By The Way (Deluxe Version)</td>\n",
              "      <td>00s Rock Anthems</td>\n",
              "    </tr>\n",
              "    <tr>\n",
              "      <th>4</th>\n",
              "      <td>How You Remind Me</td>\n",
              "      <td>Nickelback</td>\n",
              "      <td>Silver Side Up</td>\n",
              "      <td>00s Rock Anthems</td>\n",
              "    </tr>\n",
              "  </tbody>\n",
              "</table>\n",
              "</div>"
            ],
            "text/plain": [
              "                    song_name  ...          playlist\n",
              "0  Boulevard of Broken Dreams  ...  00s Rock Anthems\n",
              "1                  In The End  ...  00s Rock Anthems\n",
              "2           Seven Nation Army  ...  00s Rock Anthems\n",
              "3                  By The Way  ...  00s Rock Anthems\n",
              "4           How You Remind Me  ...  00s Rock Anthems\n",
              "\n",
              "[5 rows x 4 columns]"
            ]
          },
          "metadata": {
            "tags": []
          },
          "execution_count": 7
        }
      ]
    },
    {
      "cell_type": "code",
      "metadata": {
        "colab": {
          "base_uri": "https://localhost:8080/",
          "height": 198
        },
        "id": "KMVlE2okdHnA",
        "outputId": "e679b72a-e592-4785-aff7-6857b86a688e"
      },
      "source": [
        "song_data.head()"
      ],
      "execution_count": 8,
      "outputs": [
        {
          "output_type": "execute_result",
          "data": {
            "text/html": [
              "<div>\n",
              "<style scoped>\n",
              "    .dataframe tbody tr th:only-of-type {\n",
              "        vertical-align: middle;\n",
              "    }\n",
              "\n",
              "    .dataframe tbody tr th {\n",
              "        vertical-align: top;\n",
              "    }\n",
              "\n",
              "    .dataframe thead th {\n",
              "        text-align: right;\n",
              "    }\n",
              "</style>\n",
              "<table border=\"1\" class=\"dataframe\">\n",
              "  <thead>\n",
              "    <tr style=\"text-align: right;\">\n",
              "      <th></th>\n",
              "      <th>song_name</th>\n",
              "      <th>song_popularity</th>\n",
              "      <th>song_duration_ms</th>\n",
              "      <th>acousticness</th>\n",
              "      <th>danceability</th>\n",
              "      <th>energy</th>\n",
              "      <th>instrumentalness</th>\n",
              "      <th>key</th>\n",
              "      <th>liveness</th>\n",
              "      <th>loudness</th>\n",
              "      <th>audio_mode</th>\n",
              "      <th>speechiness</th>\n",
              "      <th>tempo</th>\n",
              "      <th>time_signature</th>\n",
              "      <th>audio_valence</th>\n",
              "    </tr>\n",
              "  </thead>\n",
              "  <tbody>\n",
              "    <tr>\n",
              "      <th>0</th>\n",
              "      <td>Boulevard of Broken Dreams</td>\n",
              "      <td>73</td>\n",
              "      <td>262333</td>\n",
              "      <td>0.005520</td>\n",
              "      <td>0.496</td>\n",
              "      <td>0.682</td>\n",
              "      <td>0.000029</td>\n",
              "      <td>8</td>\n",
              "      <td>0.0589</td>\n",
              "      <td>-4.095</td>\n",
              "      <td>1</td>\n",
              "      <td>0.0294</td>\n",
              "      <td>167.060</td>\n",
              "      <td>4</td>\n",
              "      <td>0.474</td>\n",
              "    </tr>\n",
              "    <tr>\n",
              "      <th>1</th>\n",
              "      <td>In The End</td>\n",
              "      <td>66</td>\n",
              "      <td>216933</td>\n",
              "      <td>0.010300</td>\n",
              "      <td>0.542</td>\n",
              "      <td>0.853</td>\n",
              "      <td>0.000000</td>\n",
              "      <td>3</td>\n",
              "      <td>0.1080</td>\n",
              "      <td>-6.407</td>\n",
              "      <td>0</td>\n",
              "      <td>0.0498</td>\n",
              "      <td>105.256</td>\n",
              "      <td>4</td>\n",
              "      <td>0.370</td>\n",
              "    </tr>\n",
              "    <tr>\n",
              "      <th>2</th>\n",
              "      <td>Seven Nation Army</td>\n",
              "      <td>76</td>\n",
              "      <td>231733</td>\n",
              "      <td>0.008170</td>\n",
              "      <td>0.737</td>\n",
              "      <td>0.463</td>\n",
              "      <td>0.447000</td>\n",
              "      <td>0</td>\n",
              "      <td>0.2550</td>\n",
              "      <td>-7.828</td>\n",
              "      <td>1</td>\n",
              "      <td>0.0792</td>\n",
              "      <td>123.881</td>\n",
              "      <td>4</td>\n",
              "      <td>0.324</td>\n",
              "    </tr>\n",
              "    <tr>\n",
              "      <th>3</th>\n",
              "      <td>By The Way</td>\n",
              "      <td>74</td>\n",
              "      <td>216933</td>\n",
              "      <td>0.026400</td>\n",
              "      <td>0.451</td>\n",
              "      <td>0.970</td>\n",
              "      <td>0.003550</td>\n",
              "      <td>0</td>\n",
              "      <td>0.1020</td>\n",
              "      <td>-4.938</td>\n",
              "      <td>1</td>\n",
              "      <td>0.1070</td>\n",
              "      <td>122.444</td>\n",
              "      <td>4</td>\n",
              "      <td>0.198</td>\n",
              "    </tr>\n",
              "    <tr>\n",
              "      <th>4</th>\n",
              "      <td>How You Remind Me</td>\n",
              "      <td>56</td>\n",
              "      <td>223826</td>\n",
              "      <td>0.000954</td>\n",
              "      <td>0.447</td>\n",
              "      <td>0.766</td>\n",
              "      <td>0.000000</td>\n",
              "      <td>10</td>\n",
              "      <td>0.1130</td>\n",
              "      <td>-5.065</td>\n",
              "      <td>1</td>\n",
              "      <td>0.0313</td>\n",
              "      <td>172.011</td>\n",
              "      <td>4</td>\n",
              "      <td>0.574</td>\n",
              "    </tr>\n",
              "  </tbody>\n",
              "</table>\n",
              "</div>"
            ],
            "text/plain": [
              "                    song_name  song_popularity  ...  time_signature  audio_valence\n",
              "0  Boulevard of Broken Dreams               73  ...               4          0.474\n",
              "1                  In The End               66  ...               4          0.370\n",
              "2           Seven Nation Army               76  ...               4          0.324\n",
              "3                  By The Way               74  ...               4          0.198\n",
              "4           How You Remind Me               56  ...               4          0.574\n",
              "\n",
              "[5 rows x 15 columns]"
            ]
          },
          "metadata": {
            "tags": []
          },
          "execution_count": 8
        }
      ]
    },
    {
      "cell_type": "code",
      "metadata": {
        "colab": {
          "base_uri": "https://localhost:8080/"
        },
        "id": "WwmNZzB-dJIW",
        "outputId": "b2eb8ddd-3aad-4a8c-c971-f6b7fe61b99b"
      },
      "source": [
        "song_data.isnull().sum()"
      ],
      "execution_count": 10,
      "outputs": [
        {
          "output_type": "execute_result",
          "data": {
            "text/plain": [
              "song_name           0\n",
              "song_popularity     0\n",
              "song_duration_ms    0\n",
              "acousticness        0\n",
              "danceability        0\n",
              "energy              0\n",
              "instrumentalness    0\n",
              "key                 0\n",
              "liveness            0\n",
              "loudness            0\n",
              "audio_mode          0\n",
              "speechiness         0\n",
              "tempo               0\n",
              "time_signature      0\n",
              "audio_valence       0\n",
              "dtype: int64"
            ]
          },
          "metadata": {
            "tags": []
          },
          "execution_count": 10
        }
      ]
    },
    {
      "cell_type": "code",
      "metadata": {
        "id": "uc_kw-NRdSdt"
      },
      "source": [
        ""
      ],
      "execution_count": null,
      "outputs": []
    },
    {
      "cell_type": "markdown",
      "metadata": {
        "id": "m1529BFRdU9z"
      },
      "source": [
        "# 3. 데이터 전처리\r\n",
        "\r\n",
        "* 생략"
      ]
    },
    {
      "cell_type": "markdown",
      "metadata": {
        "id": "6v5gnHPbdX47"
      },
      "source": [
        "# 4. 머신러닝을 위한 데이터 전처리"
      ]
    },
    {
      "cell_type": "code",
      "metadata": {
        "id": "Dh4petDTdads",
        "colab": {
          "base_uri": "https://localhost:8080/",
          "height": 596
        },
        "outputId": "191c57b1-0ab1-42d4-db50-fdb31dab3438"
      },
      "source": [
        "y = song_data[\"popularity\"].values\r\n",
        "x_data=song_data.drop([\"popularity\"],axis=1)\r\n",
        "#normalization\r\n",
        "x = (x_data - np.min(x_data))/(np.max(x_data)-np.min(x_data)).values#train test split\r\n",
        "from sklearn.model_selection import train_test_split\r\n",
        "x_train, x_test, y_train, y_test = train_test_split(x,y,test_size = 0.2,random_state=42)\r\n",
        "x_train = x_train.T\r\n",
        "x_test = x_test.T\r\n",
        "y_train = y_train.astype(int).T\r\n",
        "y_test = y_test.astype(int).T\r\n",
        "print(\"x_train: \",x_train.shape)\r\n",
        "print(\"x_test: \",x_test.shape)\r\n",
        "print(\"y_train: \",y_train.shape)\r\n",
        "print(\"y_test: \",y_test.shape)"
      ],
      "execution_count": 11,
      "outputs": [
        {
          "output_type": "error",
          "ename": "KeyError",
          "evalue": "ignored",
          "traceback": [
            "\u001b[0;31m---------------------------------------------------------------------------\u001b[0m",
            "\u001b[0;31mKeyError\u001b[0m                                  Traceback (most recent call last)",
            "\u001b[0;32m/usr/local/lib/python3.6/dist-packages/pandas/core/indexes/base.py\u001b[0m in \u001b[0;36mget_loc\u001b[0;34m(self, key, method, tolerance)\u001b[0m\n\u001b[1;32m   2897\u001b[0m             \u001b[0;32mtry\u001b[0m\u001b[0;34m:\u001b[0m\u001b[0;34m\u001b[0m\u001b[0;34m\u001b[0m\u001b[0m\n\u001b[0;32m-> 2898\u001b[0;31m                 \u001b[0;32mreturn\u001b[0m \u001b[0mself\u001b[0m\u001b[0;34m.\u001b[0m\u001b[0m_engine\u001b[0m\u001b[0;34m.\u001b[0m\u001b[0mget_loc\u001b[0m\u001b[0;34m(\u001b[0m\u001b[0mcasted_key\u001b[0m\u001b[0;34m)\u001b[0m\u001b[0;34m\u001b[0m\u001b[0;34m\u001b[0m\u001b[0m\n\u001b[0m\u001b[1;32m   2899\u001b[0m             \u001b[0;32mexcept\u001b[0m \u001b[0mKeyError\u001b[0m \u001b[0;32mas\u001b[0m \u001b[0merr\u001b[0m\u001b[0;34m:\u001b[0m\u001b[0;34m\u001b[0m\u001b[0;34m\u001b[0m\u001b[0m\n",
            "\u001b[0;32mpandas/_libs/index.pyx\u001b[0m in \u001b[0;36mpandas._libs.index.IndexEngine.get_loc\u001b[0;34m()\u001b[0m\n",
            "\u001b[0;32mpandas/_libs/index.pyx\u001b[0m in \u001b[0;36mpandas._libs.index.IndexEngine.get_loc\u001b[0;34m()\u001b[0m\n",
            "\u001b[0;32mpandas/_libs/hashtable_class_helper.pxi\u001b[0m in \u001b[0;36mpandas._libs.hashtable.PyObjectHashTable.get_item\u001b[0;34m()\u001b[0m\n",
            "\u001b[0;32mpandas/_libs/hashtable_class_helper.pxi\u001b[0m in \u001b[0;36mpandas._libs.hashtable.PyObjectHashTable.get_item\u001b[0;34m()\u001b[0m\n",
            "\u001b[0;31mKeyError\u001b[0m: 'popularity'",
            "\nThe above exception was the direct cause of the following exception:\n",
            "\u001b[0;31mKeyError\u001b[0m                                  Traceback (most recent call last)",
            "\u001b[0;32m<ipython-input-11-aac536eb7177>\u001b[0m in \u001b[0;36m<module>\u001b[0;34m()\u001b[0m\n\u001b[0;32m----> 1\u001b[0;31m \u001b[0my\u001b[0m \u001b[0;34m=\u001b[0m \u001b[0msong_data\u001b[0m\u001b[0;34m[\u001b[0m\u001b[0;34m\"popularity\"\u001b[0m\u001b[0;34m]\u001b[0m\u001b[0;34m.\u001b[0m\u001b[0mvalues\u001b[0m\u001b[0;34m\u001b[0m\u001b[0;34m\u001b[0m\u001b[0m\n\u001b[0m\u001b[1;32m      2\u001b[0m \u001b[0mx_data\u001b[0m\u001b[0;34m=\u001b[0m\u001b[0msong_data\u001b[0m\u001b[0;34m.\u001b[0m\u001b[0mdrop\u001b[0m\u001b[0;34m(\u001b[0m\u001b[0;34m[\u001b[0m\u001b[0;34m\"popularity\"\u001b[0m\u001b[0;34m]\u001b[0m\u001b[0;34m,\u001b[0m\u001b[0maxis\u001b[0m\u001b[0;34m=\u001b[0m\u001b[0;36m1\u001b[0m\u001b[0;34m)\u001b[0m\u001b[0;34m\u001b[0m\u001b[0;34m\u001b[0m\u001b[0m\n\u001b[1;32m      3\u001b[0m \u001b[0;31m#normalization\u001b[0m\u001b[0;34m\u001b[0m\u001b[0;34m\u001b[0m\u001b[0;34m\u001b[0m\u001b[0m\n\u001b[1;32m      4\u001b[0m \u001b[0mx\u001b[0m \u001b[0;34m=\u001b[0m \u001b[0;34m(\u001b[0m\u001b[0mx_data\u001b[0m \u001b[0;34m-\u001b[0m \u001b[0mnp\u001b[0m\u001b[0;34m.\u001b[0m\u001b[0mmin\u001b[0m\u001b[0;34m(\u001b[0m\u001b[0mx_data\u001b[0m\u001b[0;34m)\u001b[0m\u001b[0;34m)\u001b[0m\u001b[0;34m/\u001b[0m\u001b[0;34m(\u001b[0m\u001b[0mnp\u001b[0m\u001b[0;34m.\u001b[0m\u001b[0mmax\u001b[0m\u001b[0;34m(\u001b[0m\u001b[0mx_data\u001b[0m\u001b[0;34m)\u001b[0m\u001b[0;34m-\u001b[0m\u001b[0mnp\u001b[0m\u001b[0;34m.\u001b[0m\u001b[0mmin\u001b[0m\u001b[0;34m(\u001b[0m\u001b[0mx_data\u001b[0m\u001b[0;34m)\u001b[0m\u001b[0;34m)\u001b[0m\u001b[0;34m.\u001b[0m\u001b[0mvalues\u001b[0m\u001b[0;31m#train test split\u001b[0m\u001b[0;34m\u001b[0m\u001b[0;34m\u001b[0m\u001b[0m\n\u001b[1;32m      5\u001b[0m \u001b[0;32mfrom\u001b[0m \u001b[0msklearn\u001b[0m\u001b[0;34m.\u001b[0m\u001b[0mmodel_selection\u001b[0m \u001b[0;32mimport\u001b[0m \u001b[0mtrain_test_split\u001b[0m\u001b[0;34m\u001b[0m\u001b[0;34m\u001b[0m\u001b[0m\n",
            "\u001b[0;32m/usr/local/lib/python3.6/dist-packages/pandas/core/frame.py\u001b[0m in \u001b[0;36m__getitem__\u001b[0;34m(self, key)\u001b[0m\n\u001b[1;32m   2904\u001b[0m             \u001b[0;32mif\u001b[0m \u001b[0mself\u001b[0m\u001b[0;34m.\u001b[0m\u001b[0mcolumns\u001b[0m\u001b[0;34m.\u001b[0m\u001b[0mnlevels\u001b[0m \u001b[0;34m>\u001b[0m \u001b[0;36m1\u001b[0m\u001b[0;34m:\u001b[0m\u001b[0;34m\u001b[0m\u001b[0;34m\u001b[0m\u001b[0m\n\u001b[1;32m   2905\u001b[0m                 \u001b[0;32mreturn\u001b[0m \u001b[0mself\u001b[0m\u001b[0;34m.\u001b[0m\u001b[0m_getitem_multilevel\u001b[0m\u001b[0;34m(\u001b[0m\u001b[0mkey\u001b[0m\u001b[0;34m)\u001b[0m\u001b[0;34m\u001b[0m\u001b[0;34m\u001b[0m\u001b[0m\n\u001b[0;32m-> 2906\u001b[0;31m             \u001b[0mindexer\u001b[0m \u001b[0;34m=\u001b[0m \u001b[0mself\u001b[0m\u001b[0;34m.\u001b[0m\u001b[0mcolumns\u001b[0m\u001b[0;34m.\u001b[0m\u001b[0mget_loc\u001b[0m\u001b[0;34m(\u001b[0m\u001b[0mkey\u001b[0m\u001b[0;34m)\u001b[0m\u001b[0;34m\u001b[0m\u001b[0;34m\u001b[0m\u001b[0m\n\u001b[0m\u001b[1;32m   2907\u001b[0m             \u001b[0;32mif\u001b[0m \u001b[0mis_integer\u001b[0m\u001b[0;34m(\u001b[0m\u001b[0mindexer\u001b[0m\u001b[0;34m)\u001b[0m\u001b[0;34m:\u001b[0m\u001b[0;34m\u001b[0m\u001b[0;34m\u001b[0m\u001b[0m\n\u001b[1;32m   2908\u001b[0m                 \u001b[0mindexer\u001b[0m \u001b[0;34m=\u001b[0m \u001b[0;34m[\u001b[0m\u001b[0mindexer\u001b[0m\u001b[0;34m]\u001b[0m\u001b[0;34m\u001b[0m\u001b[0;34m\u001b[0m\u001b[0m\n",
            "\u001b[0;32m/usr/local/lib/python3.6/dist-packages/pandas/core/indexes/base.py\u001b[0m in \u001b[0;36mget_loc\u001b[0;34m(self, key, method, tolerance)\u001b[0m\n\u001b[1;32m   2898\u001b[0m                 \u001b[0;32mreturn\u001b[0m \u001b[0mself\u001b[0m\u001b[0;34m.\u001b[0m\u001b[0m_engine\u001b[0m\u001b[0;34m.\u001b[0m\u001b[0mget_loc\u001b[0m\u001b[0;34m(\u001b[0m\u001b[0mcasted_key\u001b[0m\u001b[0;34m)\u001b[0m\u001b[0;34m\u001b[0m\u001b[0;34m\u001b[0m\u001b[0m\n\u001b[1;32m   2899\u001b[0m             \u001b[0;32mexcept\u001b[0m \u001b[0mKeyError\u001b[0m \u001b[0;32mas\u001b[0m \u001b[0merr\u001b[0m\u001b[0;34m:\u001b[0m\u001b[0;34m\u001b[0m\u001b[0;34m\u001b[0m\u001b[0m\n\u001b[0;32m-> 2900\u001b[0;31m                 \u001b[0;32mraise\u001b[0m \u001b[0mKeyError\u001b[0m\u001b[0;34m(\u001b[0m\u001b[0mkey\u001b[0m\u001b[0;34m)\u001b[0m \u001b[0;32mfrom\u001b[0m \u001b[0merr\u001b[0m\u001b[0;34m\u001b[0m\u001b[0;34m\u001b[0m\u001b[0m\n\u001b[0m\u001b[1;32m   2901\u001b[0m \u001b[0;34m\u001b[0m\u001b[0m\n\u001b[1;32m   2902\u001b[0m         \u001b[0;32mif\u001b[0m \u001b[0mtolerance\u001b[0m \u001b[0;32mis\u001b[0m \u001b[0;32mnot\u001b[0m \u001b[0;32mNone\u001b[0m\u001b[0;34m:\u001b[0m\u001b[0;34m\u001b[0m\u001b[0;34m\u001b[0m\u001b[0m\n",
            "\u001b[0;31mKeyError\u001b[0m: 'popularity'"
          ]
        }
      ]
    },
    {
      "cell_type": "markdown",
      "metadata": {
        "id": "JO9dpD4ddboH"
      },
      "source": [
        "# 5. 학습"
      ]
    },
    {
      "cell_type": "markdown",
      "metadata": {
        "id": "7Txwm1wDdkbk"
      },
      "source": [
        "## 5.1 선형 모델"
      ]
    },
    {
      "cell_type": "code",
      "metadata": {
        "id": "lss4G6ObdeV2"
      },
      "source": [
        "def initialize_weights_and_bias(dimension):\r\n",
        "    w=np.full((dimension,1),0.01)\r\n",
        "    b=0.0\r\n",
        "    return w,b\r\n",
        "\r\n",
        "def sigmoid(z):\r\n",
        "    y_head = 1/(1+ np.exp(-z))\r\n",
        "    return y_head\r\n",
        "\r\n",
        "def forward_backward_propagation(w,b,x_train,y_train):\r\n",
        "    # forward propagation\r\n",
        "    z = np.dot(w.T,x_train) + b\r\n",
        "    y_head = sigmoid(z)\r\n",
        "    loss = -y_train*np.log(y_head)-(1-y_train)*np.log(1-y_head)\r\n",
        "    cost = (np.sum(loss))/x_train.shape[1]      \r\n",
        "\r\n",
        "    derivative_weight = (np.dot(x_train,((y_head-y_train).T)))/x_train.shape[1] \r\n",
        "    derivative_bias = np.sum(y_head-y_train)/x_train.shape[1]                 \r\n",
        "    gradients = {\"derivative_weight\": derivative_weight,\"derivative_bias\": derivative_bias}\r\n",
        "    return cost,gradients\r\n",
        "\r\n",
        " \r\n",
        "def update(w, b, x_train, y_train, learning_rate,number_of_iterarion):\r\n",
        "    cost_list = []\r\n",
        "    cost_list2 = []\r\n",
        "    index = []\r\n",
        "\r\n",
        "    for i in range(number_of_iterarion):\r\n",
        "        cost,gradients = forward_backward_propagation(w,b,x_train,y_train)\r\n",
        "        cost_list.append(cost)\r\n",
        "        # update\r\n",
        "        w = w - learning_rate * gradients[\"derivative_weight\"]\r\n",
        "        b = b - learning_rate * gradients[\"derivative_bias\"]\r\n",
        "        if i % 10 == 0:\r\n",
        "            cost_list2.append(cost)\r\n",
        "            index.append(i)\r\n",
        "            print (\"Cost after iteration %i: %f\" %(i, cost))\r\n",
        "    \r\n",
        "    parameters = {\"weight\": w,\"bias\": b}\r\n",
        "    plt.plot(index,cost_list2)\r\n",
        "    plt.xticks(index,rotation='vertical')\r\n",
        "    plt.xlabel(\"Number of Iterarion\")\r\n",
        "    plt.ylabel(\"Cost\")\r\n",
        "    plt.show()\r\n",
        "    return parameters, gradients, cost_list\r\n",
        "\r\n",
        "    def predict(w,b,x_test):\r\n",
        "    z = sigmoid(np.dot(w.T,x_test)+b)\r\n",
        "    Y_prediction = np.zeros((1,x_test.shape[1]))\r\n",
        "\r\n",
        "    for i in range(z.shape[1]):\r\n",
        "        if z[0,i]<= 0.5:\r\n",
        "            Y_prediction[0,i] = 0\r\n",
        "        else:\r\n",
        "            Y_prediction[0,i] = 1\r\n",
        "\r\n",
        "    return Y_prediction\r\n",
        "\r\n",
        "def logistic_regression(x_train, y_train, x_test, y_test, learning_rate ,  num_iterations):\r\n",
        "    # initialize\r\n",
        "    dimension =  x_train.shape[0]\r\n",
        "    w,b = initialize_weights_and_bias(dimension)\r\n",
        "    #update\r\n",
        "    parameters, gradients, cost_list = update(w, b, x_train, y_train, learning_rate,num_iterations)\r\n",
        "    y_prediction_test = predict(parameters[\"weight\"],parameters[\"bias\"],x_test)\r\n",
        "    y_prediction_train = predict(parameters[\"weight\"],parameters[\"bias\"],x_train)\r\n",
        "\r\n",
        "    print(\"train accuracy: {} %\".format(100 - np.mean(np.abs(y_prediction_train - y_train)) * 100))\r\n",
        "    print(\"test accuracy: {} %\".format(100 - np.mean(np.abs(y_prediction_test - y_test)) * 100))\r\n",
        "\r\n",
        "logistic_regression(x_train, y_train, x_test, y_test,learning_rate =0.01, num_iterations = 200)\r\n",
        "    \r\n"
      ],
      "execution_count": null,
      "outputs": []
    },
    {
      "cell_type": "markdown",
      "metadata": {
        "id": "1bJSf9Gzdm-e"
      },
      "source": [
        "## 5.2 SVM"
      ]
    },
    {
      "cell_type": "code",
      "metadata": {
        "id": "8PMhLQcHdnHl"
      },
      "source": [
        "from sklearn.svm import SVC\r\n",
        "svm= SVC(random_state=1)  #kernel='rbf'\r\n",
        "svm.fit(x_train,y_train)\r\n",
        "print(\"Train accuracy of svm algo:\",svm.score(x_train,y_train))\r\n",
        "print(\"Test accuracy of svm algo:\",svm.score(x_test,y_test))"
      ],
      "execution_count": null,
      "outputs": []
    },
    {
      "cell_type": "code",
      "metadata": {
        "id": "RG8-yaeEHzMh"
      },
      "source": [
        "from sklearn.model_selection import cross_val_score\r\n",
        "k = 10\r\n",
        "cv_result = cross_val_score(svm,x_train,y_train,cv=k) \r\n",
        "cv_result_svm= np.sum(cv_result)/k\r\n",
        "print('Cross_val Scores: ',cv_result)\r\n",
        "print('Cross_val scores average: ',np.sum(cv_result)/k)"
      ],
      "execution_count": null,
      "outputs": []
    },
    {
      "cell_type": "code",
      "metadata": {
        "id": "ocYDIk_OH0Vq"
      },
      "source": [
        "SVM_score= svm.score(x_test,y_test)\r\n",
        "CrossVal_SVM_score=cv_result_svm"
      ],
      "execution_count": null,
      "outputs": []
    },
    {
      "cell_type": "code",
      "metadata": {
        "id": "yRVHPKXwH1Tx"
      },
      "source": [
        "from sklearn.svm import SVC\r\n",
        "from sklearn.preprocessing import StandardScaler\r\n",
        "from sklearn.pipeline import Pipeline\r\n",
        "\r\n",
        "steps = [('scalar', StandardScaler()),\r\n",
        "         ('SVM', SVC())]\r\n",
        "pipeline = Pipeline(steps)\r\n",
        "parameters = {'SVM__C':[1, 10, 100],\r\n",
        "              'SVM__gamma':[0.1, 0.01]}\r\n",
        "cv = GridSearchCV(pipeline,param_grid=parameters,cv=10)\r\n",
        "cv.fit(x_train,y_train)\r\n",
        "y_pred = cv.predict(x_test)\r\n",
        "\r\n",
        "print(\"Tuned Model Parameters: {}\".format(cv.best_params_))\r\n",
        "print(\"Test accuracy: {}\".format(cv.score(x_test, y_test)))"
      ],
      "execution_count": null,
      "outputs": []
    },
    {
      "cell_type": "markdown",
      "metadata": {
        "id": "5ikQ7yRsdpLm"
      },
      "source": [
        "## 5.3 결정 트리"
      ]
    },
    {
      "cell_type": "code",
      "metadata": {
        "id": "FxyhCAqUdq-B"
      },
      "source": [
        "from sklearn.metrics import accuracy_score,recall_score,precision_score,confusion_matrix,f1_score\r\n",
        "from sklearn.tree import DecisionTreeClassifier\r\n",
        "\r\n",
        "dt= DecisionTreeClassifier()\r\n",
        "dt.fit(x_train,y_train)\r\n",
        "y_pred=dt.predict(x_test)\r\n",
        "DecisionTree_score=dt.score(x_test,y_test)\r\n",
        "print(\"Train ccuracy of decision tree:\",dt.score(x_train,y_train))\r\n",
        "print(\"Test accuracy of decision tree:\",dt.score(x_test,y_test))\r\n",
        "\r\n",
        "from sklearn.model_selection import cross_val_score\r\n",
        "k =10\r\n",
        "cv_result = cross_val_score(dt,x_train,y_train,cv=k) # uses R^2 as score \r\n",
        "print('Cross_val Scores: ',cv_result)\r\n",
        "print('Cross_val scores average: ',np.sum(cv_result)/k)"
      ],
      "execution_count": null,
      "outputs": []
    },
    {
      "cell_type": "markdown",
      "metadata": {
        "id": "zEMBFyoMdrgY"
      },
      "source": [
        "## 5.4 랜덤 포레스트"
      ]
    },
    {
      "cell_type": "code",
      "metadata": {
        "id": "ci-OKemodtXB",
        "colab": {
          "base_uri": "https://localhost:8080/",
          "height": 245
        },
        "outputId": "1a0c32e0-78be-42e3-ad15-543bff0b6c3c"
      },
      "source": [
        "from sklearn.ensemble import RandomForestClassifier\r\n",
        "rf=RandomForestClassifier(n_estimators=150,random_state = 3)\r\n",
        "rf.fit(x_train,y_train)\r\n",
        "print(\"Train ccuracy of random forest\",rf.score(x_train,y_train))\r\n",
        "print(\"Test accuracy of random forest\",rf.score(x_test,y_test))\r\n",
        "RandomForestClassifier_score=rf.score(x_test,y_test)\r\n",
        "y_pred=rf.predict(x_test)\r\n",
        "t_true=y_test"
      ],
      "execution_count": 2,
      "outputs": [
        {
          "output_type": "error",
          "ename": "NameError",
          "evalue": "ignored",
          "traceback": [
            "\u001b[0;31m---------------------------------------------------------------------------\u001b[0m",
            "\u001b[0;31mNameError\u001b[0m                                 Traceback (most recent call last)",
            "\u001b[0;32m<ipython-input-2-6ea1b1f89bc4>\u001b[0m in \u001b[0;36m<module>\u001b[0;34m()\u001b[0m\n\u001b[1;32m      1\u001b[0m \u001b[0;32mfrom\u001b[0m \u001b[0msklearn\u001b[0m\u001b[0;34m.\u001b[0m\u001b[0mensemble\u001b[0m \u001b[0;32mimport\u001b[0m \u001b[0mRandomForestClassifier\u001b[0m\u001b[0;34m\u001b[0m\u001b[0;34m\u001b[0m\u001b[0m\n\u001b[1;32m      2\u001b[0m \u001b[0mrf\u001b[0m\u001b[0;34m=\u001b[0m\u001b[0mRandomForestClassifier\u001b[0m\u001b[0;34m(\u001b[0m\u001b[0mn_estimators\u001b[0m\u001b[0;34m=\u001b[0m\u001b[0;36m150\u001b[0m\u001b[0;34m,\u001b[0m\u001b[0mrandom_state\u001b[0m \u001b[0;34m=\u001b[0m \u001b[0;36m3\u001b[0m\u001b[0;34m)\u001b[0m\u001b[0;34m\u001b[0m\u001b[0;34m\u001b[0m\u001b[0m\n\u001b[0;32m----> 3\u001b[0;31m \u001b[0mrf\u001b[0m\u001b[0;34m.\u001b[0m\u001b[0mfit\u001b[0m\u001b[0;34m(\u001b[0m\u001b[0mx_train\u001b[0m\u001b[0;34m,\u001b[0m\u001b[0my_train\u001b[0m\u001b[0;34m)\u001b[0m\u001b[0;34m\u001b[0m\u001b[0;34m\u001b[0m\u001b[0m\n\u001b[0m\u001b[1;32m      4\u001b[0m \u001b[0mprint\u001b[0m\u001b[0;34m(\u001b[0m\u001b[0;34m\"Train ccuracy of random forest\"\u001b[0m\u001b[0;34m,\u001b[0m\u001b[0mrf\u001b[0m\u001b[0;34m.\u001b[0m\u001b[0mscore\u001b[0m\u001b[0;34m(\u001b[0m\u001b[0mx_train\u001b[0m\u001b[0;34m,\u001b[0m\u001b[0my_train\u001b[0m\u001b[0;34m)\u001b[0m\u001b[0;34m)\u001b[0m\u001b[0;34m\u001b[0m\u001b[0;34m\u001b[0m\u001b[0m\n\u001b[1;32m      5\u001b[0m \u001b[0mprint\u001b[0m\u001b[0;34m(\u001b[0m\u001b[0;34m\"Test accuracy of random forest\"\u001b[0m\u001b[0;34m,\u001b[0m\u001b[0mrf\u001b[0m\u001b[0;34m.\u001b[0m\u001b[0mscore\u001b[0m\u001b[0;34m(\u001b[0m\u001b[0mx_test\u001b[0m\u001b[0;34m,\u001b[0m\u001b[0my_test\u001b[0m\u001b[0;34m)\u001b[0m\u001b[0;34m)\u001b[0m\u001b[0;34m\u001b[0m\u001b[0;34m\u001b[0m\u001b[0m\n",
            "\u001b[0;31mNameError\u001b[0m: name 'x_train' is not defined"
          ]
        }
      ]
    },
    {
      "cell_type": "code",
      "metadata": {
        "id": "n0b5-n-UH-1W"
      },
      "source": [
        "from sklearn.model_selection import cross_val_score\r\n",
        "k = 10\r\n",
        "cv_result = cross_val_score(rf,x_train,y_train,cv=k) # uses R^2 as score \r\n",
        "cv_result_randomforest=np.sum(cv_result)/k\r\n",
        "print('Cross_val Scores: ',cv_result)\r\n",
        "print('Cross_val scores average: ',np.sum(cv_result)/k)"
      ],
      "execution_count": null,
      "outputs": []
    },
    {
      "cell_type": "markdown",
      "metadata": {
        "id": "r-7FX_1vde2h"
      },
      "source": [
        "# 6. 평가 및 튜닝\r\n",
        "* 선형 모델, SVM, 결정 트리, 랜덤 포레스트의 평가 값을 확인"
      ]
    },
    {
      "cell_type": "code",
      "metadata": {
        "id": "OH6NKXs6dgjK"
      },
      "source": [
        "5에서 값들을 확인 할 수 있다. "
      ],
      "execution_count": null,
      "outputs": []
    }
  ]
}